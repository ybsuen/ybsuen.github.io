{
 "cells": [
  {
   "cell_type": "markdown",
   "metadata": {
    "slideshow": {
     "slide_type": "slide"
    }
   },
   "source": [
    "<h1><center> Preparing and Exploring Data in Python</center></h1>"
   ]
  },
  {
   "cell_type": "markdown",
   "metadata": {
    "slideshow": {
     "slide_type": "slide"
    }
   },
   "source": [
    "<h1><center>Why Python?</center></h1>\n",
    "<div style=\"margin-left:100px;\">\n",
    "<ul>\n",
    "    <li>Simple syntax designed as a teaching language for learning Computer Science</li>\n",
    "    <li>Great language for learning about object oriented programming, a mordern programming approach</u></li>\n",
    "    <li>Vast support of programming libraries, especially for AI and data science works</li>\n",
    "    <li>Commercial adoptions have increased rapidly, providing plenty of job opportunities</li> \n",
    "    <li>Used by YouTube, Dropbox, Google, Instagram, Spotify, Reddit, Yahoo Maps, Pinterest, Washington Post, NASA, etc.</li>\n",
    "    <li>For web programming, like PHP and C#, Python is usually used for back-end processing.</li>\n",
    "</ul>\n",
    "</div>"
   ]
  },
  {
   "cell_type": "markdown",
   "metadata": {
    "slideshow": {
     "slide_type": "slide"
    }
   },
   "source": [
    "<h1><center>Back-end Development with Python</center></h1>"
   ]
  },
  {
   "cell_type": "markdown",
   "metadata": {
    "slideshow": {
     "slide_type": "slide"
    }
   },
   "source": [
    "<h1><center>Python Development with Anaconda and Jupyter Notebook</center></h1>\n",
    "<div style=\"margin-left:100px;\">\n",
    "<ul>\n",
    "    <li>Why Anaconda?</li>\n",
    "    <li>Most of the popular Python libraries such as BeautifulSoup, NumPy, Pandas, Mathplotlib are preinstalled</li>\n",
    "    <li>Other additional software tools such as R Studio, JupyterLab, Jupyter Notebook are also preinstalled</li>\n",
    "    <li>Cross-platform support on Mac, Windows, and Linux</li>\n",
    "    <li>Jupyter Notebook is a great tool for learning Python</li>\n",
    "    <li>Jupyter Notebook supports HTML/CSS and LaTex markup syntax</li>\n",
    "    <li>Jupyter Notebook supports slideshow presentation</li>\n",
    "    <li>Github support for Jupyter notebook document</li>\n",
    "</div>"
   ]
  },
  {
   "cell_type": "markdown",
   "metadata": {},
   "source": [
    "<h2>Similar to other programming languages, Python provides us with the capabilities to build system and transform data.</h2>"
   ]
  },
  {
   "cell_type": "markdown",
   "metadata": {},
   "source": [
    "<img src=\"system.png\">"
   ]
  },
  {
   "cell_type": "markdown",
   "metadata": {},
   "source": [
    "<h1>All programming languages rely on similar data and operation patterns to process and tranfrom <u style=\"color:red;\">input</u> into <u style=\"color:red;\">output</u>.</h1>"
   ]
  },
  {
   "cell_type": "markdown",
   "metadata": {
    "slideshow": {
     "slide_type": "slide"
    }
   },
   "source": [
    "<h1><center>Basic Data Types in Python</center></h1>\n",
    "<div style=\"margin-left:100px;\">\n",
    "<ul>\n",
    "    <li>Integer</li>\n",
    "    <li>Float</li>\n",
    "    <li>String</li>\n",
    "    <li>Boolean</li>\n",
    "</ul>\n",
    "</div>"
   ]
  },
  {
   "cell_type": "markdown",
   "metadata": {},
   "source": [
    "<h1><center>Basic Operations in Python</center></h1>\n",
    "<div style=\"margin-left:100px;\">\n",
    "<ul>\n",
    "    <li>Variable Assignment</li>\n",
    "    <li>Mathematical and String Operations</li>\n",
    "    <li>Logical Operations</li>\n",
    "    <li>Looping Operations</li>\n",
    "</ul>\n",
    "</div>"
   ]
  },
  {
   "cell_type": "markdown",
   "metadata": {},
   "source": [
    "<h2>Jupyter Notebook is a <u style=\"color:red;\">system</u> that accepts instructions given in the <u style=\"color:red;\">In</u> box and returns result in the <u style=\"color:red;\">Out</u> box.</h2>"
   ]
  },
  {
   "cell_type": "markdown",
   "metadata": {},
   "source": [
    "<center><h1>Try it out.</h1></center>"
   ]
  },
  {
   "cell_type": "markdown",
   "metadata": {},
   "source": [
    "<h3>e.g. 5+2, 5-2, 5*2, 5/2, 5%2, 5**2</h3>"
   ]
  },
  {
   "cell_type": "markdown",
   "metadata": {
    "slideshow": {
     "slide_type": "slide"
    }
   },
   "source": [
    "<h1><center>Integer</center></h1>\n",
    "<div style=\"margin-left:100px;\">\n",
    "To show the result of your code, make sure \"code\" display option is chosen instead of the \"markdown\" option for rendering in Jupyter Notebook and then type:<br>\n",
    "<br>\n",
    "<ol>\n",
    "    <li>Press the \"+\" button on the button toolbar to create a new In-box</li>\n",
    "    <li>Enter 123</li>\n",
    "    <li>Hit \"Run\" on the button toolbar to execute your code.</li>\n",
    "    <li>Press the \"+\" button on the button toolbar to create a new In-box</li>\n",
    "    <li>Enter type(123)</li>\n",
    "    <li>Hit \"Run\" on the button toolbar to execute your code</li>\n",
    "    <li>See what you've got</li>\n",
    "</ol>\n",
    "</div>"
   ]
  },
  {
   "cell_type": "markdown",
   "metadata": {
    "slideshow": {
     "slide_type": "slide"
    }
   },
   "source": [
    "<h1><center>Try it out</center></h1>"
   ]
  },
  {
   "cell_type": "markdown",
   "metadata": {
    "slideshow": {
     "slide_type": "slide"
    }
   },
   "source": [
    "<h1><center>Float</center></h1>\n",
    "<div style=\"margin-left:100px;\">\n",
    "To show the result of your code, make sure \"code\" display option is chosen instead of the \"markdown\" option for rendering in Jupyter Notebook and then type:<br>\n",
    "<br>\n",
    "<ol>\n",
    "    <li>Press the \"+\" button on the button toolbar to create a new In-box</li>\n",
    "    <li>Enter 123.45</li>\n",
    "    <li>Hit \"Run\" on the button toolbar to execute your code.</li>\n",
    "    <li>Press the \"+\" button on the button toolbar to create a new In-box</li>\n",
    "    <li>Enter type(123.45)</li>\n",
    "    <li>Hit \"Run\" on the button toolbar to execute your code</li>\n",
    "    <li>See what you've got</li>\n",
    "</ol>\n",
    "</div>"
   ]
  },
  {
   "cell_type": "markdown",
   "metadata": {
    "slideshow": {
     "slide_type": "slide"
    }
   },
   "source": [
    "<h1><center>Try it out</center></h1>"
   ]
  },
  {
   "cell_type": "markdown",
   "metadata": {
    "slideshow": {
     "slide_type": "slide"
    }
   },
   "source": [
    "<h1><center>String</center></h1>\n",
    "<div style=\"margin-left:100px;\">\n",
    "To show the result of your code, make sure \"code\" display option is chosen instead of the \"markdown\" option for rendering in Jupyter Notebook and then type:<br>\n",
    "<br>\n",
    "<ol>\n",
    "    <li>Press the \"+\" button on the button toolbar to create a new In-box</li>\n",
    "    <li>Enter '123.45'</li>\n",
    "    <li>Hit \"Run\" on the button toolbar to execute your code.</li>\n",
    "    <li>Press the \"+\" button on the button toolbar to create a new In-box</li>\n",
    "    <li>Enter type('123.45')</li>\n",
    "    <li>Hit \"Run\" on the button toolbar to execute your code</li>\n",
    "    <li>See what you've got</li>\n",
    "</ol>\n",
    "</div>"
   ]
  },
  {
   "cell_type": "markdown",
   "metadata": {
    "slideshow": {
     "slide_type": "slide"
    }
   },
   "source": [
    "<h1><center>Try it out</center></h1>"
   ]
  },
  {
   "cell_type": "markdown",
   "metadata": {
    "slideshow": {
     "slide_type": "slide"
    }
   },
   "source": [
    "<h1><center>Assign Data Type to Variables</center></h1>\n",
    "<div style=\"margin-left:100px;\">\n",
    "To show the result of your code, make sure \"code\" display option is chosen instead of the \"markdown\" option for rendering in Jupyter Notebook and then type:<br>\n",
    "<br>\n",
    "<ol>\n",
    "    <li>Press the \"+\" button on the button toolbar to create a new In-box</li>\n",
    "    <li>Enter 'x = 123'</li>\n",
    "    <li>Enter 'y = 123.45</li>\n",
    "    <li>Enter 'z = '123.45'</li>\n",
    "    <li>Enter 'print(x,y,z)</li>\n",
    "    <li>By the way, the command \"print\" is a built-in function in Python</li>\n",
    "    <li>Enter 'print(type(x),type(y),type(z))'. </li>\n",
    "    <li>Hit \"Run\" on the button toolbar to execute your code</li>\n",
    "    <li>See what you've got</li>\n",
    "</ol>\n",
    "</div>"
   ]
  },
  {
   "cell_type": "markdown",
   "metadata": {},
   "source": [
    "<h1><center>Try it out</center></h1>"
   ]
  },
  {
   "cell_type": "code",
   "execution_count": 1,
   "metadata": {},
   "outputs": [
    {
     "name": "stdout",
     "output_type": "stream",
     "text": [
      "123 123.45 123.45\n",
      "<class 'int'> <class 'float'> <class 'str'>\n"
     ]
    }
   ],
   "source": [
    "x = 123\n",
    "y = 123.45\n",
    "z = '123.45'\n",
    "print(x,y,z)\n",
    "print(type(x),type(y),type(z))"
   ]
  },
  {
   "cell_type": "markdown",
   "metadata": {
    "slideshow": {
     "slide_type": "slide"
    }
   },
   "source": [
    "<h1><center>Boolean</center></h1>\n",
    "<div style=\"margin-left:100px;\">\n",
    "To show the result of your code, make sure \"code\" display option is chosen instead of the \"markdown\" option for rendering in Jupyter Notebook and then type:<br>\n",
    "<br>\n",
    "<ol>\n",
    "    <li>Press the \"+\" button on the button toolbar to create a new In-box</li>\n",
    "    <li>Enter 'sign_up = True'</li>\n",
    "    <li>Enter type(type(sign_up)</li>\n",
    "    <li>Hit \"Run\" on the button toolbar to execute your code</li>\n",
    "    <li>See what you've got</li>\n",
    "</ol>\n",
    "</div>"
   ]
  },
  {
   "cell_type": "markdown",
   "metadata": {},
   "source": [
    "<h1><center>Try it out</center></h1>"
   ]
  },
  {
   "cell_type": "code",
   "execution_count": 38,
   "metadata": {},
   "outputs": [
    {
     "name": "stdout",
     "output_type": "stream",
     "text": [
      "<class 'bool'>\n"
     ]
    }
   ],
   "source": [
    "sign_up = True \n",
    "print(type(sign_up))"
   ]
  },
  {
   "cell_type": "markdown",
   "metadata": {
    "slideshow": {
     "slide_type": "slide"
    }
   },
   "source": [
    "<h1><center>More on Expressions and Variables</center></h1>\n",
    "<div style=\"margin-left:100px;\">\n",
    "To show the result of your code, make sure \"code\" display option is chosen instead of the \"markdown\" option for rendering in Jupyter Notebook and then type:<br>\n",
    "<br>\n",
    "<ol>\n",
    "    <li>Expressions are made up of mathematical operations</li>\n",
    "    <ul>\n",
    "        <li>Addition +</li>\n",
    "        <li>Subtraction -</li>\n",
    "        <li>Multiplication *</li>\n",
    "        <li>Division /</li>\n",
    "        <li>Rounded division //</li>\n",
    "        <li>Exponent **</li>\n",
    "        <li>Modulus % (division returns remainder)</li>\n",
    "    </ul>\n",
    "    <li>Variables (used for storing values)</li>\n",
    "    <ul>\n",
    "        <li>x = 123</li>\n",
    "        <li>y = 123.45</li>\n",
    "        <li>z = '123.45'</li>\n",
    "        <li>What is the result of adding x + y\n",
    "    </ul>\n",
    "</ol>\n",
    "</div>"
   ]
  },
  {
   "cell_type": "markdown",
   "metadata": {
    "slideshow": {
     "slide_type": "slide"
    }
   },
   "source": [
    "<h1><center>Data Type Conversion</center></h1>\n"
   ]
  },
  {
   "cell_type": "code",
   "execution_count": 18,
   "metadata": {
    "slideshow": {
     "slide_type": "slide"
    }
   },
   "outputs": [
    {
     "name": "stdout",
     "output_type": "stream",
     "text": [
      "<class 'str'>\n",
      "The result of 123 + 123.45 = 246.45\n"
     ]
    }
   ],
   "source": [
    "x = 123\n",
    "y = 123.45\n",
    "z = 'The result of ' + str(x) + \" + \" + str(y) + \" = \" + str(x+y)\n",
    "print(type(str(y)))\n",
    "print(z)"
   ]
  },
  {
   "cell_type": "markdown",
   "metadata": {
    "slideshow": {
     "slide_type": "slide"
    }
   },
   "source": [
    "<h1><center>More on String</center></h1>\n",
    "<div style=\"margin-left:100px;\">\n",
    "To show the result of your code, make sure \"code\" display option is chosen instead of the \"markdown\" option for rendering in Jupyter Notebook and then type:<br>\n",
    "<br>\n",
    "<ol>\n",
    "    <li>The concept of an \"index\": position of each character in the string</li>\n",
    "    <li>The first position is always \"0\"</li>\n",
    "    <li>Notation of the index is expressed as:string_var[beginning position:ending position]</li>\n",
    "    <li>The ending position is not included\n",
    "    <li>The len(string_var) function will return the length of the string</li>\n",
    "    <li>Let's say z = \"I am from CUHK.\"</li>\n",
    "    <li>What will the command print(z[1:4]) return?</li>\n",
    "    <li>How can you print out the entire string using the index</li> \n",
    "    <li>Negative index starts from the end of the string e.g. name[-1:] </li>\n",
    "</ol>\n",
    "</div>"
   ]
  },
  {
   "cell_type": "markdown",
   "metadata": {
    "slideshow": {
     "slide_type": "slide"
    }
   },
   "source": [
    "<h1><center>Try it out</center></h1>"
   ]
  },
  {
   "cell_type": "code",
   "execution_count": 53,
   "metadata": {},
   "outputs": [
    {
     "name": "stdout",
     "output_type": "stream",
     "text": [
      "I am\n",
      "I am from CUHK.\n",
      ".\n"
     ]
    }
   ],
   "source": [
    "z = \"I am from CUHK.\"\n",
    "#    0123456789012345\n",
    "print(z[0:4])\n",
    "print(z[0:15])\n",
    "print (z[-1:])"
   ]
  },
  {
   "cell_type": "code",
   "execution_count": 46,
   "metadata": {
    "slideshow": {
     "slide_type": "slide"
    }
   },
   "outputs": [
    {
     "name": "stdout",
     "output_type": "stream",
     "text": [
      "15\n",
      "I am from CUHK\n",
      "HK.\n",
      "CUHK\n"
     ]
    }
   ],
   "source": [
    "z = \"I am from CUHK.\"\n",
    "print(len(z))\n",
    "print(z[0:14])\n",
    "print(z[-3:])\n",
    "print(z[10:14])"
   ]
  },
  {
   "cell_type": "code",
   "execution_count": null,
   "metadata": {},
   "outputs": [],
   "source": [
    "# type(), len()"
   ]
  },
  {
   "cell_type": "markdown",
   "metadata": {
    "slideshow": {
     "slide_type": "slide"
    }
   },
   "source": [
    "<h1><center>Useful String Functions</center></h1>\n",
    "<div style=\"margin-left:100px;\">\n",
    "To show the result of your code, make sure \"code\" display option is chosen instead of the \"markdown\" option for rendering in Jupyter Notebook and then type:<br>\n",
    "<br>\n",
    "<ol>\n",
    "    <li>name.upper()</li>\n",
    "    <li>name.replace(destination,source)</li>\n",
    "    <li>name.find(destination)</li>\n",
    "    <li>name.split()</li>\n",
    "    <li>name.count(target)</li>\n",
    "</ol>\n",
    "</div>"
   ]
  },
  {
   "cell_type": "code",
   "execution_count": 70,
   "metadata": {},
   "outputs": [
    {
     "name": "stdout",
     "output_type": "stream",
     "text": [
      "CU\n",
      "cuhk\n",
      "-1\n"
     ]
    }
   ],
   "source": [
    "x = 'cuhk'\n",
    "# x = x.upper()\n",
    "y = \"CU\"\n",
    "print(x.replace(x,y))\n",
    "print(x)\n",
    "print(x.find(\"U\"))"
   ]
  },
  {
   "cell_type": "markdown",
   "metadata": {},
   "source": [
    "<h1><center>Try it out</center></h1>"
   ]
  },
  {
   "cell_type": "code",
   "execution_count": 74,
   "metadata": {
    "scrolled": true
   },
   "outputs": [
    {
     "name": "stdout",
     "output_type": "stream",
     "text": [
      "Prince Charles\n",
      "Prince Charles Prince Harry\n",
      "['Prince', 'Charles']\n",
      "2\n"
     ]
    }
   ],
   "source": [
    "famous_person = \"Prince Charles\"\n",
    "print(famous_person)\n",
    "famous_person2 = famous_person.replace(\"Charles\",\"Harry\")\n",
    "print(famous_person, famous_person2)\n",
    "print(famous_person.split())\n",
    "print(famous_person.count(\"e\"))"
   ]
  },
  {
   "cell_type": "markdown",
   "metadata": {
    "slideshow": {
     "slide_type": "slide"
    }
   },
   "source": [
    "<h1><center>Try it out</center></h1>"
   ]
  },
  {
   "cell_type": "code",
   "execution_count": 79,
   "metadata": {
    "slideshow": {
     "slide_type": "slide"
    }
   },
   "outputs": [
    {
     "name": "stdout",
     "output_type": "stream",
     "text": [
      "7\n"
     ]
    }
   ],
   "source": [
    "name = \"Prince Charles\"\n",
    "# print(name)\n",
    "name = name.replace(\"Charles\",\"William\")\n",
    "# print(name)\n",
    "name = name.upper()\n",
    "# print(name)\n",
    "# print(name.find(\"Charles\"))\n",
    "print(name.find(\"WILLIAM\"))"
   ]
  },
  {
   "cell_type": "code",
   "execution_count": null,
   "metadata": {},
   "outputs": [],
   "source": [
    "names = \"Prince Charles and Prince Harry\"\n",
    "#        0123456789012345678901234567890\n",
    "first_prince_position = names.find(\"Prince\")\n",
    "# print(\"1st Prince Position:\"+str(first_prince_position))\n",
    "second_prince_position = names.find(\"Prince\",first_prince_position+1)\n",
    "# print(\"2nd Prince Position:\"+str(second_prince_position))\n",
    "son_of_charles = names[second_prince_position:]\n",
    "print(son_of_charles)"
   ]
  },
  {
   "cell_type": "markdown",
   "metadata": {},
   "source": [
    "<center><h1>Getting Input</h1></center>"
   ]
  },
  {
   "cell_type": "code",
   "execution_count": 2,
   "metadata": {},
   "outputs": [
    {
     "name": "stdout",
     "output_type": "stream",
     "text": [
      "Enter your name:\n",
      "Bernard\n",
      "Hello, Bernard\n"
     ]
    }
   ],
   "source": [
    "print('Enter your name:')\n",
    "x = input()\n",
    "print('Hello, ' + x)"
   ]
  },
  {
   "cell_type": "markdown",
   "metadata": {},
   "source": [
    "<center><h1>Commenting your program.</h1></center>"
   ]
  },
  {
   "cell_type": "code",
   "execution_count": null,
   "metadata": {},
   "outputs": [],
   "source": [
    "# This is a comment\n",
    "# 2 + 2 \n",
    "2 + 2"
   ]
  },
  {
   "cell_type": "markdown",
   "metadata": {},
   "source": [
    "<h1 style='background:black;color:white;'><center>Try it out: Input first and last name and output full name.</center></h1>"
   ]
  },
  {
   "cell_type": "markdown",
   "metadata": {},
   "source": [
    "<center><h1>Also print out the total number of characters in the full name string.</h1><center>"
   ]
  },
  {
   "cell_type": "markdown",
   "metadata": {},
   "source": [
    "<h1><center>More Type Conversion</center></h1>"
   ]
  },
  {
   "cell_type": "code",
   "execution_count": 32,
   "metadata": {},
   "outputs": [
    {
     "name": "stdout",
     "output_type": "stream",
     "text": [
      "3.14\n"
     ]
    },
    {
     "data": {
      "text/plain": [
       "str"
      ]
     },
     "execution_count": 32,
     "metadata": {},
     "output_type": "execute_result"
    }
   ],
   "source": [
    "# str(x) function will convert integer and float into a string\n",
    "x = 3.14\n",
    "y = str(x)\n",
    "print(y)\n",
    "type(y)"
   ]
  },
  {
   "cell_type": "code",
   "execution_count": 86,
   "metadata": {},
   "outputs": [
    {
     "name": "stdout",
     "output_type": "stream",
     "text": [
      "3.14\n",
      "3\n",
      "<class 'float'>\n",
      "<class 'int'>\n",
      "3.0\n"
     ]
    }
   ],
   "source": [
    "# float(x) function will convert a string with decimal point into a float\n",
    "x = 3.14\n",
    "y = str(x)\n",
    "z1 = float(y)\n",
    "print(z1)\n",
    "z2 = int(y[0:y.find(\".\")])\n",
    "print(z2)\n",
    "print(type(z1))\n",
    "print(type(z2))\n",
    "print(x//1)"
   ]
  },
  {
   "cell_type": "markdown",
   "metadata": {},
   "source": [
    "<center><h1>Conditionals:<div style=\"color:red;\">'If then else' Statements </div></h1></center>"
   ]
  },
  {
   "cell_type": "code",
   "execution_count": 115,
   "metadata": {},
   "outputs": [
    {
     "name": "stdout",
     "output_type": "stream",
     "text": [
      "Enter your name:Bernard\n",
      "Your name is Bernard.\n"
     ]
    }
   ],
   "source": [
    "x = input(\"Enter your name:\")\n",
    "print(\"Your name is \" + x + \".\" )"
   ]
  },
  {
   "cell_type": "code",
   "execution_count": 118,
   "metadata": {},
   "outputs": [
    {
     "name": "stdout",
     "output_type": "stream",
     "text": [
      "Enter gender:female\n",
      "I am a female.\n"
     ]
    }
   ],
   "source": [
    "sex = input(\"Enter gender:\")\n",
    "male = True\n",
    "if sex == 'male':\n",
    "    print('I am a '+sex+'.')\n",
    "else: \n",
    "    print('I am a female.')"
   ]
  },
  {
   "cell_type": "code",
   "execution_count": 96,
   "metadata": {},
   "outputs": [
    {
     "name": "stdout",
     "output_type": "stream",
     "text": [
      "I am a female.\n"
     ]
    }
   ],
   "source": [
    "male = False\n",
    "if male == True:\n",
    "    print('I am a male.')\n",
    "else:\n",
    "    print('I am a female.')"
   ]
  },
  {
   "cell_type": "markdown",
   "metadata": {},
   "source": [
    "<h1><center>Try it out: Enter gender preference and output answer.</center></h1>"
   ]
  },
  {
   "cell_type": "code",
   "execution_count": 1,
   "metadata": {},
   "outputs": [
    {
     "name": "stdout",
     "output_type": "stream",
     "text": [
      "What is your gender?male\n",
      "I am a male.\n"
     ]
    }
   ],
   "source": [
    "sex = input('What is your gender?')\n",
    "if sex == 'male':\n",
    "    print('I am a '+sex+'.')\n",
    "else: \n",
    "    print('I am a female.')"
   ]
  },
  {
   "cell_type": "code",
   "execution_count": 122,
   "metadata": {},
   "outputs": [
    {
     "name": "stdout",
     "output_type": "stream",
     "text": [
      "Male? 1 for yes, 0 for no: 0\n",
      "I am a female.\n"
     ]
    }
   ],
   "source": [
    "# male = bool(int(input(\"Male? 1 for yes, 0 for no: \")))\n",
    "male = int(input(\"Male? 1 for yes, 0 for no: \"))\n",
    "if male == 1:\n",
    "    print('I am a male.')\n",
    "else:\n",
    "    print('I am a female.')"
   ]
  },
  {
   "cell_type": "markdown",
   "metadata": {},
   "source": [
    "<h1><center>Rounding Function</center></h1>"
   ]
  },
  {
   "cell_type": "code",
   "execution_count": 133,
   "metadata": {},
   "outputs": [
    {
     "data": {
      "text/plain": [
       "273.0"
      ]
     },
     "execution_count": 133,
     "metadata": {},
     "output_type": "execute_result"
    }
   ],
   "source": [
    "x = 273.47127\n",
    "x//1"
   ]
  },
  {
   "cell_type": "code",
   "execution_count": 125,
   "metadata": {},
   "outputs": [
    {
     "name": "stdout",
     "output_type": "stream",
     "text": [
      "274\n"
     ]
    }
   ],
   "source": [
    "# Create a rounding function\n",
    "x = 273.57127\n",
    "str_x = str(x)\n",
    "# pos = str(x).find(\".\")+1\n",
    "pos = str_x.find(\".\")+1\n",
    "val = str(x)[pos:pos+1]  # str_x[pos:pos+1]\n",
    "if (int(val) >= 5):\n",
    "    print(str(x+1)[0:pos-1])\n",
    "else:\n",
    "    print(str(x)[0:pos-1])"
   ]
  },
  {
   "cell_type": "code",
   "execution_count": 132,
   "metadata": {},
   "outputs": [
    {
     "name": "stdout",
     "output_type": "stream",
     "text": [
      "273\n"
     ]
    }
   ],
   "source": [
    "# Create a rounding function\n",
    "x = 273.47127\n",
    "x = str(x)\n",
    "pos = x.find(\".\")+1\n",
    "val = x[pos:pos+1]  # str_x[pos:pos+1]\n",
    "if (int(val) >= 5):\n",
    "    print(x)\n",
    "    x = float(x) + 1\n",
    "    x = str(x)\n",
    "    print(x[0:pos-1])\n",
    "else:\n",
    "    print(x[0:pos-1])"
   ]
  },
  {
   "cell_type": "code",
   "execution_count": 138,
   "metadata": {},
   "outputs": [
    {
     "name": "stdout",
     "output_type": "stream",
     "text": [
      "274\n"
     ]
    }
   ],
   "source": [
    "# Another way to implement a rounding function\n",
    "x = 273.57127\n",
    "str_x = str(x)\n",
    "pos = str_x.find('.')+1\n",
    "val = str(x)[pos:pos+1]\n",
    "if (val in \"1234\"):\n",
    "    x = x\n",
    "else:\n",
    "    x = x + 1\n",
    "print(str(x)[0:pos-1])"
   ]
  },
  {
   "cell_type": "markdown",
   "metadata": {
    "slideshow": {
     "slide_type": "slide"
    }
   },
   "source": [
    "<h1><center>Basic Data Structures in Python</center></h1>\n",
    "<div style=\"margin-left:100px;\">\n",
    "<ul>\n",
    "    <li>List and Tuple</li>\n",
    "    <li>Dictionary and Set</li>\n",
    "</ul>\n",
    "</div>"
   ]
  },
  {
   "cell_type": "markdown",
   "metadata": {
    "slideshow": {
     "slide_type": "slide"
    }
   },
   "source": [
    "<h1><center>Tuple and List</center></h1>\n",
    "<div style=\"margin-left:100px;\">\n",
    "<ul>\n",
    "        <li>Tuples are arrays enclosed with round brackets for storing multiple variables</li>\n",
    "        <li>Variables with data types can be stored into a Tuple</li>\n",
    "        <li>A Tuple operates like a string and therefore can be indexed from the beginning (positive) and the end (negative)</li>\n",
    "        <li>Tuples are immutable</li>\n",
    "        <li>Inorder to manipulate a tuple, a new one has to be created</li>\n",
    "        <li>Tuples can be nested e.g. Tuple2 = (1,2,(3,4),5)</li>\n",
    "        <li>Due to its rigidity, List is more commonly used than Tuple.</li>\n",
    "        <li>Lists are like Tubles but are mutable and enclosed with square brackets</li>\n",
    "        <li>List, similar to a Tuple, operates like a string when it comes to access individual element within the data structure</li>\n",
    "</ul>\n",
    "</div>"
   ]
  },
  {
   "cell_type": "markdown",
   "metadata": {},
   "source": [
    "<h1><center>Try it out</center></h1>"
   ]
  },
  {
   "cell_type": "code",
   "execution_count": 38,
   "metadata": {},
   "outputs": [
    {
     "name": "stdout",
     "output_type": "stream",
     "text": [
      "(1, 1.3, 2, 'CUHK')\n",
      "[1, 1.3, 2, 'CUHK']\n"
     ]
    }
   ],
   "source": [
    "tuple1 = (1,1.3,2,'CUHK') \n",
    "print(tuple1)\n",
    "list1 = [1,1.3,2,'CUHK']\n",
    "print(list1)"
   ]
  },
  {
   "cell_type": "markdown",
   "metadata": {
    "slideshow": {
     "slide_type": "slide"
    }
   },
   "source": [
    "<h1><center>Try it out</center></h1>"
   ]
  },
  {
   "cell_type": "code",
   "execution_count": 141,
   "metadata": {},
   "outputs": [
    {
     "name": "stdout",
     "output_type": "stream",
     "text": [
      "[1, 2, 2.5, 3, 4, 5]\n",
      "[1, 2, 2.5, 3, 4, 5, 6, 7, 8]\n"
     ]
    }
   ],
   "source": [
    "my_list = [1,2,3,4,5,2.5]\n",
    "print(sorted(my_list))\n",
    "my_list = my_list + [6,7,8]\n",
    "print(sorted(my_list))"
   ]
  },
  {
   "cell_type": "code",
   "execution_count": 145,
   "metadata": {},
   "outputs": [
    {
     "name": "stdout",
     "output_type": "stream",
     "text": [
      "[1, 2, 2.5, 3, 4, 5]\n",
      "[1, 2, 2.5, 3, 4, 5, 6, 7, 8]\n",
      "[1, 2, 2.5, 3, 4, 5, 6, 7, 8, [9, 10, 11]]\n",
      "[11, 22, 33, 44, [23, 45]]\n",
      "[1, 2, 2.5, 3, 4, 5, 6, 7, 8, [9, 10, 11], [11, 22, 33, 44, [23, 45]]]\n"
     ]
    }
   ],
   "source": [
    "my_list = [1,2,3,4,5,2.5]\n",
    "print(sorted(my_list))\n",
    "my_list = my_list + [6,7,8]\n",
    "my_list = sorted(my_list)\n",
    "print(my_list)\n",
    "my_list.append([9,10,11])\n",
    "print(my_list)\n",
    "your_list = [11,22,33,44]\n",
    "your_list.append([23,45])\n",
    "print(your_list)\n",
    "my_list.append(your_list)\n",
    "print(my_list)"
   ]
  },
  {
   "cell_type": "code",
   "execution_count": 150,
   "metadata": {},
   "outputs": [
    {
     "name": "stdout",
     "output_type": "stream",
     "text": [
      "[1, 2, 2.5, 3, 4, 5]\n",
      "[1, 2, 3, 4, 5, 2.5]\n",
      "[1, 2, 3, 4, 5, 2.5, 6, 7, 8]\n",
      "[1, 2, 3, 4, 5, 2.5, 6, 7, 8, [9, 10, 11]]\n",
      "[1, 2, 3, 4, 5, 2.5, 6, 7, 8]\n"
     ]
    }
   ],
   "source": [
    "my_list = [1,2,3,4,5,2.5]\n",
    "print(sorted(my_list))\n",
    "print(my_list)\n",
    "my_list = my_list + [6,7,8]\n",
    "print(my_list)\n",
    "my_list.append([9,10,11])\n",
    "print(my_list)\n",
    "del(my_list[9])\n",
    "print(my_list)"
   ]
  },
  {
   "cell_type": "code",
   "execution_count": 57,
   "metadata": {},
   "outputs": [
    {
     "name": "stdout",
     "output_type": "stream",
     "text": [
      "[1, 2, 2.5, 3, 4, 5]\n",
      "[1, 2, 3, 4, 5, 2.5]\n",
      "[1, 2, 3, 4, 5, 2.5, 6, 7, 8]\n",
      "[1, 2, 3, 4, 5, 2.5, 6, 7, 8, [9, 10, 11]]\n",
      "[1, 2, 3, 4, 5, 2.5, 6, 7, 8]\n"
     ]
    }
   ],
   "source": [
    "my_list = [1,2,3,4,5,2.5]\n",
    "print(sorted(my_list))\n",
    "print(my_list)\n",
    "my_list = my_list + [6,7,8]\n",
    "print(my_list)\n",
    "my_list.append([9,10,11])\n",
    "print(my_list)\n",
    "del(my_list[9])\n",
    "print(my_list)"
   ]
  },
  {
   "cell_type": "code",
   "execution_count": 155,
   "metadata": {
    "scrolled": true
   },
   "outputs": [
    {
     "name": "stdout",
     "output_type": "stream",
     "text": [
      "[100, 95, 85, 60, 60.5, 70]\n",
      "[60, 60.5, 70]\n",
      "[100, 95, 85, 60, 60.5, 70, [1, 2, 3, 'I am from CUHK.', True]]\n",
      "[11, 22, 33, [44, 55, 66]]\n",
      "[100, 95, 85, 60, 60.5, 70, [1, 2, 3, 'I am from CUHK.', True], [11, 22, 33, [44, 55, 66]]]\n"
     ]
    }
   ],
   "source": [
    "score_list = [100,95,85,60,60.5,70]\n",
    "# print(score_list)\n",
    "# print(score_list[3])\n",
    "score_list.append([50,45,65,55])\n",
    "# print(score_list)\n",
    "del(score_list[6])\n",
    "print(score_list)\n",
    "print(score_list[3:7])\n",
    "score_list.append([1,2,3,\"I am from CUHK.\",True])\n",
    "print(score_list)\n",
    "second_list = [11,22,33]\n",
    "second_list.append([44,55,66])\n",
    "print(second_list)\n",
    "score_list.append(second_list)\n",
    "print(score_list)"
   ]
  },
  {
   "cell_type": "code",
   "execution_count": 60,
   "metadata": {},
   "outputs": [
    {
     "name": "stdout",
     "output_type": "stream",
     "text": [
      "[100, 95, 85, 60, 60.5, 70]\n",
      "60\n",
      "[100, 95, 85, 60, 60.5, 70, [50, 45, 65, 55]]\n",
      "[60, 60.5, 70]\n",
      "[100, 95, 85, 60, 60.5, 70]\n",
      "[100, 95, 85, 60, 60.5, 70, [1, 2, 3, 'I am from CUHK.', True]]\n",
      "[100, 95, 85, 60, 60.5, 70, [1, 2, 3, 'I am from CUHK.', True], [11, 22, 33, [44, 55, 66]]]\n"
     ]
    }
   ],
   "source": [
    "score_list = [100,95,85,60,60.5,70]\n",
    "# print(score_list)\n",
    "# print(score_list[3])\n",
    "score_list.append([50,45,65,55])\n",
    "# print(score_list)\n",
    "del(score_list[6])\n",
    "print(score_list[3:7])\n",
    "print(score_list)\n",
    "score_list.append([1,2,3,\"I am from CUHK.\",True])\n",
    "print(score_list)\n",
    "second_list = [11,22,33]\n",
    "second_list.append([44,55,66])\n",
    "score_list.append(second_list)\n",
    "print(score_list)"
   ]
  },
  {
   "cell_type": "markdown",
   "metadata": {
    "slideshow": {
     "slide_type": "slide"
    }
   },
   "source": [
    "<h1><center>Looping Operations</center></h1>\n",
    "<div style=\"margin-left:100px;\">"
   ]
  },
  {
   "cell_type": "code",
   "execution_count": 2,
   "metadata": {},
   "outputs": [
    {
     "name": "stdout",
     "output_type": "stream",
     "text": [
      "0\n",
      "1\n",
      "2\n",
      "3\n",
      "4\n"
     ]
    }
   ],
   "source": [
    "for i in range(0,5):\n",
    "    print(i)"
   ]
  },
  {
   "cell_type": "markdown",
   "metadata": {},
   "source": [
    "<center><h1>Using List to Store Data</h1></center>"
   ]
  },
  {
   "cell_type": "code",
   "execution_count": 164,
   "metadata": {},
   "outputs": [
    {
     "name": "stdout",
     "output_type": "stream",
     "text": [
      "30.0 65.0 1950.0 John makes $1950.0.\n",
      "40.0 75.0 3000.0 Mike makes $3000.0.\n",
      "50.0 65.0 3250.0 Mary makes $3250.0.\n",
      "60.0 75.0 4500.0 Jane makes $4500.0.\n"
     ]
    }
   ],
   "source": [
    "name_list = ['John',\"Mike\",\"Mary\",\"Jane\"]\n",
    "hrs_list = [30.0,40.0,50.0,60.0]\n",
    "rate_list = [65.0,75.0,65.0,75.0]\n",
    "index  = 0\n",
    "for number in name_list:\n",
    "    hrs = hrs_list[index]\n",
    "    rate = rate_list[index]\n",
    "    fee = fee = hrs * rate\n",
    "    money_made = name_list[index] + \" makes $\" + str(fee) + \".\"\n",
    "    print(hrs,rate,fee, money_made)\n",
    "    index = index + 1"
   ]
  },
  {
   "cell_type": "code",
   "execution_count": 5,
   "metadata": {},
   "outputs": [
    {
     "name": "stdout",
     "output_type": "stream",
     "text": [
      "[23, 20, 30, 40, 10, 20, 20]\n"
     ]
    }
   ],
   "source": [
    "print(temp_for_each_day)"
   ]
  },
  {
   "cell_type": "code",
   "execution_count": 1,
   "metadata": {},
   "outputs": [
    {
     "name": "stdout",
     "output_type": "stream",
     "text": [
      "John makes 1950.0.\n",
      "Mike makes 3000.0.\n",
      "Mary makes 3250.0.\n",
      "Jane makes 4500.0.\n",
      "[['John', 'Mike', 'Mary', 'Jane'], [1950.0, 3000.0, 3250.0, 4500.0]]\n"
     ]
    }
   ],
   "source": [
    "hrs_list = [30.0,40.0,50.0,60.0]\n",
    "rate_list = [65.0,75.0,65.0,75.0]\n",
    "name_list = ['John',\"Mike\",\"Mary\",\"Jane\"]\n",
    "index = 0\n",
    "fee_list = []\n",
    "for number in name_list:\n",
    "        hrs = hrs_list[index]\n",
    "        rate = rate_list[index]\n",
    "        fee = hrs * rate\n",
    "        fee_list.append(fee)\n",
    "        money_made = name_list[index] + \" makes \" + str(fee) + \".\"\n",
    "        print(money_made)  \n",
    "        index = index + 1\n",
    "money_list = []\n",
    "money_list.append(name_list)\n",
    "money_list.append(fee_list)\n",
    "print(money_list)"
   ]
  },
  {
   "cell_type": "code",
   "execution_count": null,
   "metadata": {},
   "outputs": [],
   "source": [
    "len(name_list)"
   ]
  },
  {
   "cell_type": "code",
   "execution_count": 167,
   "metadata": {},
   "outputs": [
    {
     "name": "stdout",
     "output_type": "stream",
     "text": [
      "0\n",
      "John makes 1950.0.\n",
      "1\n",
      "Mike makes 3000.0.\n",
      "2\n",
      "Mary makes 3250.0.\n",
      "3\n",
      "Jane makes 4500.0.\n",
      "[['John', 'Mike', 'Mary', 'Jane'], [1950.0, 3000.0, 3250.0, 4500.0]]\n"
     ]
    }
   ],
   "source": [
    "hrs_list = [30.0,40.0,50.0,60.0]\n",
    "rate_list = [65.0,75.0,65.0,75.0]\n",
    "name_list = ['John',\"Mike\",\"Mary\",\"Jane\"]\n",
    "fee_list = []\n",
    "for number in range(len(name_list)):\n",
    "        print(number)\n",
    "        hrs = hrs_list[number]\n",
    "        rate = rate_list[number]\n",
    "        fee = hrs * rate\n",
    "        fee_list.append(fee)\n",
    "        money_made = name_list[number] + \" makes \" + str(fee) + \".\"\n",
    "        print(money_made)  \n",
    "money_list = []\n",
    "money_list.append(name_list)\n",
    "money_list.append(fee_list)\n",
    "print(money_list)"
   ]
  },
  {
   "cell_type": "code",
   "execution_count": 12,
   "metadata": {},
   "outputs": [
    {
     "name": "stdout",
     "output_type": "stream",
     "text": [
      "John makes 1950.0.\n",
      "Mike makes 3000.0.\n",
      "Mary makes 3250.0.\n",
      "Jane makes 4500.0.\n",
      "[['John', 'Mike', 'Mary', 'Jane'], [1950.0, 3000.0, 3250.0, 4500.0]]\n",
      "4\n"
     ]
    }
   ],
   "source": [
    "hrs_list = [30.0,40.0,50.0,60.0]\n",
    "rate_list = [65.0,75.0,65.0,75.0]\n",
    "name_list = ['John',\"Mike\",\"Mary\",\"Jane\"]\n",
    "fee_list = []\n",
    "number = 0\n",
    "while number < len(name_list):\n",
    "        hrs = hrs_list[number]\n",
    "        rate = rate_list[number]\n",
    "        fee = hrs * rate\n",
    "        fee_list.append(fee)\n",
    "        money_made = name_list[number] + \" makes \" + str(fee) + \".\"\n",
    "        print(money_made)  \n",
    "        number = number + 1\n",
    "money_list = []\n",
    "money_list.append(name_list)\n",
    "money_list.append(fee_list)\n",
    "print(money_list)\n",
    "print(len(name_list))"
   ]
  },
  {
   "cell_type": "markdown",
   "metadata": {},
   "source": [
    "<h1><center>Try it out</center></h1>"
   ]
  },
  {
   "cell_type": "raw",
   "metadata": {},
   "source": [
    "Formula for converting Celcius into Fahrenheit: (23°C × 9/5) + 32 = 73.4°F\n",
    "Create a list of temperature in Fahrenheit for the week based on the temperature of Celcius as follows:\n",
    "\n",
    "    Sun  Mon  Tue  Wed  Thu  Fri  Sat\n",
    "    23°C 24°C  28°C 19°C 17°C  21°C 25°C"
   ]
  },
  {
   "cell_type": "markdown",
   "metadata": {},
   "source": [
    "<h1>Entering the temperature in Celcius through input box inside a loop and print out each day's temperature and calculate the weekly average in Fahrenheit.</h1>"
   ]
  },
  {
   "cell_type": "code",
   "execution_count": 25,
   "metadata": {},
   "outputs": [
    {
     "name": "stdout",
     "output_type": "stream",
     "text": [
      "Enter Sun's temperature in celcius:13.4\n",
      "Sun's temperature in Fahrenheit:56.120000000000005\n",
      "Enter Mon's temperature in celcius:12.4\n",
      "Mon's temperature in Fahrenheit:54.32\n",
      "Enter Tue's temperature in celcius:14.3\n",
      "Tue's temperature in Fahrenheit:57.74\n",
      "Enter Wed's temperature in celcius:23.5\n",
      "Wed's temperature in Fahrenheit:74.3\n",
      "Enter Thu's temperature in celcius:22.1\n",
      "Thu's temperature in Fahrenheit:71.78\n",
      "Enter Fri's temperature in celcius:22.8\n",
      "Fri's temperature in Fahrenheit:73.04\n",
      "Enter Sat's temperature in celcius:18.4\n",
      "Sat's temperature in Fahrenheit:65.12\n",
      "Average temperature for the week:64.631\n"
     ]
    }
   ],
   "source": [
    "weekly_temp = []\n",
    "total_temp = 0\n",
    "week_of_day =['Sun','Mon','Tue','Wed','Thu','Fri','Sat']\n",
    "for i in week_of_day:\n",
    "    temp = input(\"Enter \" + i + \"'s temperature in celcius:\")\n",
    "    temp = (float(temp) * 9/5) + 32 \n",
    "    weekly_temp.append(int(temp))\n",
    "    print(i + \"'s temperature in Fahrenheit:\" + str(temp))\n",
    "    total_temp = total_temp + float(temp)\n",
    "avg_temp = round((total_temp/7),2)\n",
    "print(\"Average temperature for the week:\" + str(avg_temp))"
   ]
  },
  {
   "cell_type": "markdown",
   "metadata": {},
   "source": [
    "<center><h1>Using Dictionary to Store Data</h1></center>"
   ]
  },
  {
   "cell_type": "markdown",
   "metadata": {},
   "source": [
    "<h1><center>Set and Dictionary</center></h1>\n",
    "<div style=\"margin-left:100px;\">\n",
    "<ul>\n",
    "        <li>Similar to lists and tuples, sets support different Python types</li>\n",
    "        <li>Sets use {} (braces) to embed values/elements</li>\n",
    "        <li>Sets do not allow duplicates</li>\n",
    "        <li>Lists can be converted into sets with the set function</li>\n",
    "        <li>Dictionary store data in an array of key-value pairs in braces</li>\n",
    "        <li>For instance, here is a dictionary instance: dict = {“key1”:1,”key2”:2,”key3”:3}\n",
    "</li>\n",
    "        <li>1st column representing the key and 2nd column representing the value</li>\n",
    "        <li><dict_name>.keys() returns all the keys</li>\n",
    "        <li><dict_name>.values.() returns all the values\n",
    "</ul>\n",
    "</div>"
   ]
  },
  {
   "cell_type": "markdown",
   "metadata": {},
   "source": [
    "<h1><center>Try it out</center></h1>"
   ]
  },
  {
   "cell_type": "code",
   "execution_count": 176,
   "metadata": {},
   "outputs": [
    {
     "name": "stdout",
     "output_type": "stream",
     "text": [
      "{'Peter': 80, 'David': 90, 'Mary': 100}\n",
      "dict_keys(['Peter', 'David', 'Mary'])\n",
      "dict_values([80, 90, 100])\n",
      "90\n"
     ]
    }
   ],
   "source": [
    "dict1 = {'Peter':80,\"David\":90,\"Mary\":100}\n",
    "print(dict1)\n",
    "print(dict1.keys())\n",
    "print(dict1.values())\n",
    "print(dict1[\"David\"])"
   ]
  },
  {
   "cell_type": "code",
   "execution_count": 29,
   "metadata": {
    "slideshow": {
     "slide_type": "slide"
    }
   },
   "outputs": [
    {
     "name": "stdout",
     "output_type": "stream",
     "text": [
      "Peter 80\n",
      "David 90\n",
      "Mary 100\n"
     ]
    }
   ],
   "source": [
    "dict1 = {'Peter':80,\"David\":90,\"Mary\":100}\n",
    "for key in dict1:\n",
    "  print(key, dict1[key])"
   ]
  },
  {
   "cell_type": "markdown",
   "metadata": {},
   "source": [
    "<center><h1>Combining List and Dictionary</h1></center>"
   ]
  },
  {
   "cell_type": "markdown",
   "metadata": {},
   "source": [
    "<h1><center>Try it out</center></h1>"
   ]
  },
  {
   "cell_type": "code",
   "execution_count": 202,
   "metadata": {},
   "outputs": [
    {
     "name": "stdout",
     "output_type": "stream",
     "text": [
      "{'id': '1111', 'name': 'David Chan', 'email': 'david@cuhk.edu.hk'} {'id': '1112', 'name': 'Peter Lee', 'email': 'peter@cuhk.edu.hk'}\n"
     ]
    }
   ],
   "source": [
    "student1 = {'id':'1111','name':'David Chan','email':'david@cuhk.edu.hk'} # Python dictionary is similar to JavaScript object\n",
    "student2 = {'id':'1112','name':'Peter Lee','email':'peter@cuhk.edu.hk'}\n",
    "student3 = {'id':'1113','name':'Mary Fung','email':'mary@cuhk.edu.hk'}\n",
    "print(student1,student2) # similar to JavaScript document.write"
   ]
  },
  {
   "cell_type": "code",
   "execution_count": 204,
   "metadata": {},
   "outputs": [
    {
     "name": "stdout",
     "output_type": "stream",
     "text": [
      "[{'id': '1111', 'name': 'David Chan', 'email': 'david@cuhk.edu.hk'}, {'id': '1112', 'name': 'Peter Lee', 'email': 'peter@cuhk.edu.hk'}, {'id': '1113', 'name': 'Mary Fung', 'email': 'mary@cuhk.edu.hk'}]\n"
     ]
    }
   ],
   "source": [
    "students = []                # Python list is similar to JavaScript array\n",
    "students.append(student1)    # Python list append is similar to JavaScript array push\n",
    "students.append(student2)\n",
    "students.append(student3)\n",
    "print(students) # print out a list of dictionaries "
   ]
  },
  {
   "cell_type": "code",
   "execution_count": 205,
   "metadata": {},
   "outputs": [
    {
     "name": "stdout",
     "output_type": "stream",
     "text": [
      "{'id': '1111', 'name': 'David Chan', 'email': 'david@cuhk.edu.hk'}\n",
      "{'id': '1112', 'name': 'Peter Lee', 'email': 'peter@cuhk.edu.hk'}\n",
      "{'id': '1113', 'name': 'Mary Fung', 'email': 'mary@cuhk.edu.hk'}\n"
     ]
    }
   ],
   "source": [
    "for i in students: # Python for loop is similar to JavaScript for (i=0;i<students.length;i++) {document.write...}\n",
    "    print(i)       # print out a list of dictionaries"
   ]
  },
  {
   "cell_type": "code",
   "execution_count": 206,
   "metadata": {},
   "outputs": [
    {
     "name": "stdout",
     "output_type": "stream",
     "text": [
      "{'id': '1111', 'name': 'David Chan', 'email': 'david@cuhk.edu.hk'}\n",
      "id : 1111\n",
      "name : David Chan\n",
      "email : david@cuhk.edu.hk\n",
      "{'id': '1112', 'name': 'Peter Lee', 'email': 'peter@cuhk.edu.hk'}\n",
      "id : 1112\n",
      "name : Peter Lee\n",
      "email : peter@cuhk.edu.hk\n",
      "{'id': '1113', 'name': 'Mary Fung', 'email': 'mary@cuhk.edu.hk'}\n",
      "id : 1113\n",
      "name : Mary Fung\n",
      "email : mary@cuhk.edu.hk\n"
     ]
    }
   ],
   "source": [
    "key = 0\n",
    "for i in students:\n",
    "    print(i)              # first loop prints out individual dictionary\n",
    "    for key in i:           # second loop within first loop prints out individual element within each dictionary\n",
    "        print(key, ':', i[key])"
   ]
  },
  {
   "cell_type": "markdown",
   "metadata": {},
   "source": [
    "<center><h1>Print Score List</h1></center>"
   ]
  },
  {
   "cell_type": "code",
   "execution_count": 10,
   "metadata": {},
   "outputs": [
    {
     "name": "stdout",
     "output_type": "stream",
     "text": [
      "[{'Peter': 50, 'David': 60, 'Mary': 70}, {'Peter': 50, 'David': 70, 'Mary': 80}]\n"
     ]
    }
   ],
   "source": [
    "test1 = {\"Peter\":50,\"David\":60,\"Mary\":70}\n",
    "assignment1 = {\"Peter\":50,\"David\":70,\"Mary\":80}\n",
    "score_list = []\n",
    "score_list.append(test1)\n",
    "score_list.append(assignment1)\n",
    "print(score_list)"
   ]
  },
  {
   "cell_type": "markdown",
   "metadata": {},
   "source": [
    "<center><h1>Another Example</h1></center>"
   ]
  },
  {
   "cell_type": "code",
   "execution_count": 209,
   "metadata": {},
   "outputs": [
    {
     "name": "stdout",
     "output_type": "stream",
     "text": [
      "1950.0 John 30.0 65.0\n",
      "John  makes 1950.0.\n",
      "3000.0 Mike 40 75.0\n",
      "Mike  makes 3000.0.\n",
      "3250.0 Mary 50 65.0\n",
      "Mary  makes 3250.0.\n",
      "4500.0 Jane 60 75.0\n",
      "Jane  makes 4500.0.\n"
     ]
    }
   ],
   "source": [
    "hrs_list = [30.0,40.0,50.0,60.0]\n",
    "rate_list = [65.0,75.0,65.0,75.0]\n",
    "name_list = ['John',\"Mike\",\"Mary\",\"Jane\"]\n",
    "hrs = {\"John\":30.0,\"Mike\":40,\"Mary\":50,\"Jane\":60}\n",
    "rates = {\"John\":65.0,\"Mike\":75.0,\"Mary\":65.0,\"Jane\":75.0}\n",
    "for i in name_list:\n",
    "    fees = hrs[i]* rates[i]\n",
    "    print(fees,i, hrs[i],rates[i])\n",
    "    make_money = \" makes \" + str(fees) + \".\"\n",
    "    print(i,make_money)"
   ]
  },
  {
   "cell_type": "markdown",
   "metadata": {
    "slideshow": {
     "slide_type": "slide"
    }
   },
   "source": [
    "<h1><center>Conditional Operations</center></h1>\n",
    "<div style=\"margin-left:100px;\">"
   ]
  },
  {
   "cell_type": "code",
   "execution_count": 185,
   "metadata": {},
   "outputs": [
    {
     "name": "stdout",
     "output_type": "stream",
     "text": [
      "0 red\n",
      "1 green\n",
      "2 Blue is printed.\n",
      "3 orange\n",
      "4 black\n",
      "This is done.\n"
     ]
    }
   ],
   "source": [
    "my_list = ['red','green','blue','orange','black']\n",
    "index = 0\n",
    "for i in my_list:\n",
    "  if i == 'blue':\n",
    "    print(index, \"Blue is printed.\")\n",
    "    index += 1\n",
    "  else:\n",
    "    print(index, my_list[index])\n",
    "    # index += 1\n",
    "    index = index + 1\n",
    "print(\"This is done.\")  \n",
    " "
   ]
  },
  {
   "cell_type": "markdown",
   "metadata": {},
   "source": [
    "<center><h1>Use Loop and Conditionals to print out students making more thatn $3200.</h1></center>"
   ]
  },
  {
   "cell_type": "code",
   "execution_count": 189,
   "metadata": {},
   "outputs": [
    {
     "name": "stdout",
     "output_type": "stream",
     "text": [
      "Less than 3200\n",
      "  John  makes 1950.0.\n",
      "  Mike  makes 3000.0.\n",
      "More than or equal to 3200\n",
      "  Mary  makes 3250.0.\n",
      "  Jane  makes 4500.0.\n"
     ]
    }
   ],
   "source": [
    "hrs_list = [30.0,40.0,50.0,60.0]\n",
    "rate_list = [65.0,75.0,65.0,75.0]\n",
    "name_list = ['John',\"Mike\",\"Mary\",\"Jane\"]\n",
    "hrs = {\"John\":30.0,\"Mike\":40,\"Mary\":50,\"Jane\":60}\n",
    "rates = {\"John\":65.0,\"Mike\":75.0,\"Mary\":65.0,\"Jane\":75.0}\n",
    "less_than_3200 = False\n",
    "greater_equal_3200 = False\n",
    "for i in name_list:\n",
    "    fees = hrs[i]* rates[i]\n",
    "    make_money = \" makes \" + str(fees) + \".\"\n",
    "    if (fees < 3200.0):\n",
    "        if (less_than_3200 == False):\n",
    "            print(\"Less than 3200\")\n",
    "            less_than_3200 = True\n",
    "        print(\" \",i,make_money)\n",
    "    else:\n",
    "        if (greater_equal_3200 == False):\n",
    "            print(\"More than or equal to 3200\")\n",
    "            greater_equal_3200 = True\n",
    "        print(\" \",i,make_money)"
   ]
  },
  {
   "cell_type": "markdown",
   "metadata": {},
   "source": [
    "<h1><center>Functional Decomposition and Abstraction</center></h1>\n",
    "<div style=\"margin-left:100px;\">\n",
    "<ul>\n",
    "        <li>A Python function takes input parameters and returns output results</li>\n",
    "        <li>A function starts with the \"def\" keyword</li>\n",
    "        <li>Calling the function will past contrl from the calling command to the called function</li>\n",
    "        <li>Make sure the number of parameters called match with the number of parameters and type</li>\n",
    "        <li>Enclose programming statements in a function to transfer inputs into outputs</li>\n",
    "        <li>Built-in functions can come with Python (e.g. y = len(list)) and other imported external modules</li>\n",
    "        <li>Lists can be converted into sets with the set function</li>\n",
    "        <li>A function can take it multiple input parameters (e.g. def Multi(a,b):)</li>\n",
    "        <li>Global and local variables can be initialized and used inside a Python program but only local variables exist inside a function</li>\n",
    "</ul>\n",
    "</div>"
   ]
  },
  {
   "cell_type": "code",
   "execution_count": 220,
   "metadata": {},
   "outputs": [
    {
     "name": "stdout",
     "output_type": "stream",
     "text": [
      "3\n",
      "4\n",
      "4\n"
     ]
    }
   ],
   "source": [
    "# Create a rounding function given rounded_to_int(x) and x can be any integer or float.\n",
    "# so rounded_to_int(3.14) will return 3 and rounded_to_int(3.54) will return 4. \n",
    "# Create a rounding function\n",
    "\n",
    "def rounded_to_int2(x):\n",
    "    str_x = str(x)\n",
    "    pos = str_x.find('.')+1\n",
    "    val = str(x)[pos:pos+1]\n",
    "    if (val in \"1234\"):\n",
    "        x = x\n",
    "        result = str(x)[0:pos-1]\n",
    "    else:\n",
    "        x = x + 1\n",
    "        result = str(x)[0:pos-1]\n",
    "    return result\n",
    "\n",
    "\n",
    "def rounded_to_int(x):\n",
    "    pos = str(x).find(\".\")+1\n",
    "    val = str(x)[pos:pos+1]\n",
    "    if (int(val) >= 5):\n",
    "        result = str(x+1)[0:pos-1]\n",
    "    else:\n",
    "        result = str(x)[0:pos-1]\n",
    "    return result\n",
    "\n",
    "print(rounded_to_int(3.14))\n",
    "print(rounded_to_int(3.54))\n",
    "print(rounded_to_int2(3.54))"
   ]
  },
  {
   "cell_type": "markdown",
   "metadata": {},
   "source": [
    "<center><h1>A TA Fee Computation Example</h1></center>"
   ]
  },
  {
   "cell_type": "code",
   "execution_count": 223,
   "metadata": {},
   "outputs": [
    {
     "name": "stdout",
     "output_type": "stream",
     "text": [
      "2816.0\n"
     ]
    }
   ],
   "source": [
    "def compute_ta_fees(hrs,rate):\n",
    "    fee = hrs*rate\n",
    "    return fee\n",
    "\n",
    "ta_fees = compute_ta_fees(40,70.40)\n",
    "print(ta_fees)"
   ]
  },
  {
   "cell_type": "code",
   "execution_count": 46,
   "metadata": {},
   "outputs": [
    {
     "name": "stdout",
     "output_type": "stream",
     "text": [
      "Bernard has received $1812.0.\n"
     ]
    }
   ],
   "source": [
    "def compute_ta_fees(hrs,rate,name):\n",
    "    fee = hrs*rate\n",
    "    return name + \" has received $\" + str(fee) + \".\"\n",
    "\n",
    "ta_fees = compute_ta_fees(30,60.40,'Bernard')\n",
    "print(ta_fees)"
   ]
  },
  {
   "cell_type": "code",
   "execution_count": 47,
   "metadata": {},
   "outputs": [
    {
     "name": "stdout",
     "output_type": "stream",
     "text": [
      "Mary's mom has received $484.55999999999995.\n"
     ]
    }
   ],
   "source": [
    "def compute_ta_fees(hrs,rate,name):\n",
    "    fee = hrs*rate\n",
    "    money_to_mom = fee*.2\n",
    "    return name + \"'s mom has received $\" + str(money_to_mom) + \".\"\n",
    "\n",
    "ta_fees = compute_ta_fees(36,67.30,'Mary')\n",
    "print(ta_fees)"
   ]
  },
  {
   "cell_type": "code",
   "execution_count": 49,
   "metadata": {},
   "outputs": [
    {
     "name": "stdout",
     "output_type": "stream",
     "text": [
      "John's mom has received $390.0.\n",
      "Mike's mom has received $600.0.\n",
      "Mary's mom has received $650.0.\n",
      "Jane's mom has received $900.0.\n",
      "[\"John's mom has received $390.0.\", \"Mike's mom has received $600.0.\", \"Mary's mom has received $650.0.\", \"Jane's mom has received $900.0.\"]\n"
     ]
    }
   ],
   "source": [
    "def compute_ta_fees(hrs,rate,name):\n",
    "    fee = hrs*rate\n",
    "    money_to_mom = fee*.2\n",
    "    return name + \"'s mom has received $\" + str(money_to_mom) + \".\"\n",
    "\n",
    "# print ta_fees\n",
    "hrs_list = [30.0,40.0,50.0,60.0]\n",
    "rate_list = [65.0,75.0,65.0,75.0]\n",
    "name_list = ['John',\"Mike\",\"Mary\",\"Jane\"]\n",
    "index = 0\n",
    "output_list = []\n",
    "for number in name_list:\n",
    "        hrs = hrs_list[index]\n",
    "        rate = rate_list[index]\n",
    "        name = name_list[index]        \n",
    "        ta_fees = compute_ta_fees(hrs,rate,name)\n",
    "        print(ta_fees)\n",
    "        output_list.append(ta_fees)\n",
    "        index = index + 1\n",
    "print(output_list)"
   ]
  },
  {
   "cell_type": "markdown",
   "metadata": {},
   "source": [
    "<div style=\"padding-top:5px;background:black;color:white;\"><h1><center>Creating Pandas Data Frames from Lists and Dictionaries</center></h1></div>"
   ]
  },
  {
   "cell_type": "code",
   "execution_count": 3,
   "metadata": {},
   "outputs": [
    {
     "data": {
      "text/html": [
       "<div>\n",
       "<style scoped>\n",
       "    .dataframe tbody tr th:only-of-type {\n",
       "        vertical-align: middle;\n",
       "    }\n",
       "\n",
       "    .dataframe tbody tr th {\n",
       "        vertical-align: top;\n",
       "    }\n",
       "\n",
       "    .dataframe thead th {\n",
       "        text-align: right;\n",
       "    }\n",
       "</style>\n",
       "<table border=\"1\" class=\"dataframe\">\n",
       "  <thead>\n",
       "    <tr style=\"text-align: right;\">\n",
       "      <th></th>\n",
       "      <th>assignment scores</th>\n",
       "      <th>Jan</th>\n",
       "      <th>Feb</th>\n",
       "      <th>Mar</th>\n",
       "    </tr>\n",
       "  </thead>\n",
       "  <tbody>\n",
       "    <tr>\n",
       "      <td>0</td>\n",
       "      <td>David Chan</td>\n",
       "      <td>90</td>\n",
       "      <td>85</td>\n",
       "      <td>88</td>\n",
       "    </tr>\n",
       "    <tr>\n",
       "      <td>1</td>\n",
       "      <td>Peter Lee</td>\n",
       "      <td>72</td>\n",
       "      <td>75</td>\n",
       "      <td>68</td>\n",
       "    </tr>\n",
       "    <tr>\n",
       "      <td>2</td>\n",
       "      <td>John Lui</td>\n",
       "      <td>60</td>\n",
       "      <td>80</td>\n",
       "      <td>100</td>\n",
       "    </tr>\n",
       "  </tbody>\n",
       "</table>\n",
       "</div>"
      ],
      "text/plain": [
       "  assignment scores  Jan  Feb  Mar\n",
       "0        David Chan   90   85   88\n",
       "1         Peter Lee   72   75   68\n",
       "2          John Lui   60   80  100"
      ]
     },
     "execution_count": 3,
     "metadata": {},
     "output_type": "execute_result"
    }
   ],
   "source": [
    "import pandas as pd\n",
    "# Define a list of dictionaries\n",
    "scores = [{'assignment scores': 'David Chan', 'Jan': 90, 'Feb': 85, 'Mar': 88},\n",
    "         {'assignment scores': 'Peter Lee',  'Jan': 72, 'Feb': 75, 'Mar': 68},\n",
    "         {'assignment scores': 'John Lui',  'Jan': 60,  'Feb': 80,  'Mar': 100 }]\n",
    "df = pd.DataFrame(scores) # Assign the list of dictionaries to a dataframe\n",
    "df # display dataframe"
   ]
  },
  {
   "cell_type": "code",
   "execution_count": 4,
   "metadata": {},
   "outputs": [
    {
     "data": {
      "text/html": [
       "<div>\n",
       "<style scoped>\n",
       "    .dataframe tbody tr th:only-of-type {\n",
       "        vertical-align: middle;\n",
       "    }\n",
       "\n",
       "    .dataframe tbody tr th {\n",
       "        vertical-align: top;\n",
       "    }\n",
       "\n",
       "    .dataframe thead th {\n",
       "        text-align: right;\n",
       "    }\n",
       "</style>\n",
       "<table border=\"1\" class=\"dataframe\">\n",
       "  <thead>\n",
       "    <tr style=\"text-align: right;\">\n",
       "      <th></th>\n",
       "      <th>Student ID</th>\n",
       "      <th>Full Name</th>\n",
       "      <th>Email Address</th>\n",
       "    </tr>\n",
       "  </thead>\n",
       "  <tbody>\n",
       "    <tr>\n",
       "      <td>0</td>\n",
       "      <td>1</td>\n",
       "      <td>David Chan</td>\n",
       "      <td>dchan@cuhk.edu.hk</td>\n",
       "    </tr>\n",
       "    <tr>\n",
       "      <td>1</td>\n",
       "      <td>2</td>\n",
       "      <td>Peter Lee</td>\n",
       "      <td>plee@cuhk.edu.hk</td>\n",
       "    </tr>\n",
       "    <tr>\n",
       "      <td>2</td>\n",
       "      <td>3</td>\n",
       "      <td>John Lui</td>\n",
       "      <td>jlui@cuhk.edu.hk</td>\n",
       "    </tr>\n",
       "    <tr>\n",
       "      <td>3</td>\n",
       "      <td>4</td>\n",
       "      <td>Mary Lu</td>\n",
       "      <td>mlu@cuhk.edu.hk</td>\n",
       "    </tr>\n",
       "  </tbody>\n",
       "</table>\n",
       "</div>"
      ],
      "text/plain": [
       "   Student ID   Full Name      Email Address\n",
       "0           1  David Chan  dchan@cuhk.edu.hk\n",
       "1           2   Peter Lee   plee@cuhk.edu.hk\n",
       "2           3    John Lui   jlui@cuhk.edu.hk\n",
       "3           4     Mary Lu    mlu@cuhk.edu.hk"
      ]
     },
     "execution_count": 4,
     "metadata": {},
     "output_type": "execute_result"
    }
   ],
   "source": [
    "import pandas as pd\n",
    "# define dataframe as a list of lists\n",
    "# with a header list called columns which contains the column names\n",
    "df = pd.DataFrame([\n",
    "  [1, 'David Chan', 'dchan@cuhk.edu.hk'],\n",
    "  [2, 'Peter Lee', 'plee@cuhk.edu.hk'],\n",
    "  [3,'John Lui','jlui@cuhk.edu.hk'],\n",
    "  [4,'Mary Lu','mlu@cuhk.edu.hk']\n",
    "],\n",
    "  columns=[ \n",
    "  'Student ID','Full Name','Email Address'\n",
    "  ])\n",
    "df"
   ]
  },
  {
   "cell_type": "code",
   "execution_count": null,
   "metadata": {},
   "outputs": [],
   "source": []
  }
 ],
 "metadata": {
  "hide_input": false,
  "kernelspec": {
   "display_name": "Python 3",
   "language": "python",
   "name": "python3"
  },
  "language_info": {
   "codemirror_mode": {
    "name": "ipython",
    "version": 3
   },
   "file_extension": ".py",
   "mimetype": "text/x-python",
   "name": "python",
   "nbconvert_exporter": "python",
   "pygments_lexer": "ipython3",
   "version": "3.7.4"
  }
 },
 "nbformat": 4,
 "nbformat_minor": 2
}
